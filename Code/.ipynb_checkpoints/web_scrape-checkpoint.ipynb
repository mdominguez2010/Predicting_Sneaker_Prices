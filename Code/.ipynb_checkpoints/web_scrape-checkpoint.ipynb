{
 "cells": [
  {
   "cell_type": "markdown",
   "metadata": {},
   "source": [
    "# Web-Scraping Sneaker Prices"
   ]
  },
  {
   "cell_type": "code",
   "execution_count": 3,
   "metadata": {
    "ExecuteTime": {
     "end_time": "2020-11-16T22:33:03.672242Z",
     "start_time": "2020-11-16T22:33:03.668337Z"
    }
   },
   "outputs": [],
   "source": [
    "from bs4 import BeautifulSoup\n",
    "import requests\n",
    "import time, os\n",
    "import re\n",
    "import pickle\n",
    "\n",
    "from selenium import webdriver\n",
    "from selenium.webdriver.common.keys import Keys\n",
    "from selenium.webdriver.chrome.options import Options\n",
    "from selenium.common.exceptions import NoSuchElementException\n",
    "from fake_useragent import UserAgent\n",
    "\n",
    "import pandas as pd\n",
    "import datetime\n",
    "import numpy as np\n",
    "import random\n",
    "\n",
    "# Import customized functions\n",
    "from web_scrape import shoes_list, get_data"
   ]
  },
  {
   "cell_type": "code",
   "execution_count": null,
   "metadata": {
    "ExecuteTime": {
     "end_time": "2020-10-03T21:27:26.522471Z",
     "start_time": "2020-10-03T21:27:26.070994Z"
    }
   },
   "outputs": [],
   "source": [
    "# Scrape some data (start off small)\n",
    "\n",
    "url = 'https://stockx.com/air-jordan-11-retro-playoffs-2019' \n",
    "\n",
    "response = requests.get(url)"
   ]
  },
  {
   "cell_type": "code",
   "execution_count": null,
   "metadata": {
    "ExecuteTime": {
     "end_time": "2020-10-03T21:27:27.267310Z",
     "start_time": "2020-10-03T21:27:27.263603Z"
    }
   },
   "outputs": [],
   "source": [
    "response.status_code"
   ]
  },
  {
   "cell_type": "markdown",
   "metadata": {},
   "source": [
    "What status code 403 means per Wikipedia: \"The request contained valid data and was understood by the server, but the server is refusing action. This may be due to the user not having the necessary permissions for a resource or needing an account of some sort, or attempting a prohibited action (e.g. creating a duplicate record where only one is allowed).\"\n",
    "\n",
    "update: Using User-agent works"
   ]
  },
  {
   "cell_type": "markdown",
   "metadata": {},
   "source": [
    "## Scraping"
   ]
  },
  {
   "cell_type": "markdown",
   "metadata": {},
   "source": [
    "### Generating list of shoe names"
   ]
  },
  {
   "cell_type": "code",
   "execution_count": null,
   "metadata": {
    "ExecuteTime": {
     "end_time": "2020-10-05T03:29:48.538242Z",
     "start_time": "2020-10-05T03:29:48.532458Z"
    }
   },
   "outputs": [],
   "source": [
    "shoes_list = shoes_list(10)"
   ]
  },
  {
   "cell_type": "code",
   "execution_count": null,
   "metadata": {
    "ExecuteTime": {
     "end_time": "2020-10-05T03:29:52.273685Z",
     "start_time": "2020-10-05T03:29:52.270149Z"
    }
   },
   "outputs": [],
   "source": [
    "# Save as Pickle\n",
    "with open('shoes.pickle', 'wb') as to_write:\n",
    "    pickle.dump(shoes_list, to_write)"
   ]
  },
  {
   "cell_type": "code",
   "execution_count": null,
   "metadata": {
    "ExecuteTime": {
     "end_time": "2020-10-05T04:25:48.321564Z",
     "start_time": "2020-10-05T04:25:48.318642Z"
    }
   },
   "outputs": [],
   "source": [
    "# Read Pickle and assign once again to variable shoes_list\n",
    "with open('shoes.pickle','rb') as read_file:\n",
    "    shoes_list = pickle.load(read_file)"
   ]
  },
  {
   "cell_type": "code",
   "execution_count": null,
   "metadata": {
    "ExecuteTime": {
     "end_time": "2020-10-05T04:26:06.191170Z",
     "start_time": "2020-10-05T04:26:06.188768Z"
    },
    "scrolled": false
   },
   "outputs": [],
   "source": [
    "shoes_list = shoes_list[153:228]"
   ]
  },
  {
   "cell_type": "code",
   "execution_count": null,
   "metadata": {
    "ExecuteTime": {
     "end_time": "2020-10-05T04:26:07.093541Z",
     "start_time": "2020-10-05T04:26:07.090080Z"
    }
   },
   "outputs": [],
   "source": [
    "len(shoes_list)"
   ]
  },
  {
   "cell_type": "markdown",
   "metadata": {},
   "source": [
    "### Iterating through our list of shoe names, scraping data, and adding to dataframe"
   ]
  },
  {
   "cell_type": "code",
   "execution_count": null,
   "metadata": {
    "ExecuteTime": {
     "end_time": "2020-10-04T17:10:39.812475Z",
     "start_time": "2020-10-04T17:10:39.809775Z"
    }
   },
   "outputs": [],
   "source": [
    "chromedriver = \"/Applications/chromedriver\" # path to the chromedriver executable\n",
    "os.environ[\"webdriver.chrome.driver\"] = chromedriver"
   ]
  },
  {
   "cell_type": "code",
   "execution_count": null,
   "metadata": {
    "ExecuteTime": {
     "end_time": "2020-10-05T04:26:22.178908Z",
     "start_time": "2020-10-05T04:26:17.575349Z"
    },
    "scrolled": true
   },
   "outputs": [],
   "source": [
    "# Function to web-crawl StockX and retrieve the necessary data to do our analysis\n",
    "df = get_data(shoes_list)"
   ]
  },
  {
   "cell_type": "code",
   "execution_count": null,
   "metadata": {
    "ExecuteTime": {
     "end_time": "2020-10-05T04:26:57.929299Z",
     "start_time": "2020-10-05T04:26:57.919946Z"
    },
    "scrolled": true
   },
   "outputs": [],
   "source": [
    "# Save 'df' to csv\n",
    "#df.to_csv(r'/Users/dominguez/Documents/onl20_ds4/curriculum/project-02/df.csv', index=False)"
   ]
  },
  {
   "cell_type": "code",
   "execution_count": null,
   "metadata": {
    "ExecuteTime": {
     "end_time": "2020-10-06T02:33:20.883810Z",
     "start_time": "2020-10-06T02:33:20.852601Z"
    },
    "scrolled": true
   },
   "outputs": [],
   "source": [
    "# Read the CSV and assign to 'df'\n",
    "df = pd.read_csv('df.csv')\n",
    "df"
   ]
  }
 ],
 "metadata": {
  "kernelspec": {
   "display_name": "Python 3",
   "language": "python",
   "name": "python3"
  },
  "language_info": {
   "codemirror_mode": {
    "name": "ipython",
    "version": 3
   },
   "file_extension": ".py",
   "mimetype": "text/x-python",
   "name": "python",
   "nbconvert_exporter": "python",
   "pygments_lexer": "ipython3",
   "version": "3.8.3"
  },
  "toc": {
   "base_numbering": 1,
   "nav_menu": {},
   "number_sections": true,
   "sideBar": true,
   "skip_h1_title": false,
   "title_cell": "Table of Contents",
   "title_sidebar": "Contents",
   "toc_cell": false,
   "toc_position": {},
   "toc_section_display": true,
   "toc_window_display": true
  }
 },
 "nbformat": 4,
 "nbformat_minor": 4
}
